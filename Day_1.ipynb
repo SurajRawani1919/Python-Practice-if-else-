{
  "cells": [
    {
      "cell_type": "code",
      "execution_count": null,
      "metadata": {
        "colab": {
          "background_save": true,
          "base_uri": "https://localhost:8080/"
        },
        "id": "6VGpLbCpneY7",
        "outputId": "88d365f9-863b-4e2f-b1b5-36f8a5cc339a"
      },
      "outputs": [
        {
          "name": "stdout",
          "output_type": "stream",
          "text": [
            "Suraj rawani\n"
          ]
        }
      ],
      "source": [
        "print(\"Suraj\")\n",
        "print(\"rawani\")"
      ]
    },
    {
      "cell_type": "code",
      "execution_count": 26,
      "metadata": {
        "id": "8JaakTq8r_r6",
        "colab": {
          "base_uri": "https://localhost:8080/"
        },
        "outputId": "16c40f03-b42c-49cf-bcd0-c4924a8031a9"
      },
      "outputs": [
        {
          "output_type": "execute_result",
          "data": {
            "text/plain": [
              "12.0"
            ]
          },
          "metadata": {},
          "execution_count": 26
        }
      ],
      "source": [
        "9+7-2*3/2-1\n",
        "# **\n",
        "# * / // % (left to right)\n",
        "# + -"
      ]
    },
    {
      "cell_type": "code",
      "source": [
        "# comparison operator / relationship\n",
        "# True / Fasle\n",
        "# > , >= ,< ,<= , ==, !=\n",
        "10>3\n",
        "10<3"
      ],
      "metadata": {
        "colab": {
          "base_uri": "https://localhost:8080/"
        },
        "id": "lhnlqT_y1B49",
        "outputId": "2506ef3b-fb3e-4b35-d651-4e89506ed93e"
      },
      "execution_count": 28,
      "outputs": [
        {
          "output_type": "execute_result",
          "data": {
            "text/plain": [
              "False"
            ]
          },
          "metadata": {},
          "execution_count": 28
        }
      ]
    },
    {
      "cell_type": "code",
      "source": [
        "x=10\n",
        "10==x"
      ],
      "metadata": {
        "colab": {
          "base_uri": "https://localhost:8080/"
        },
        "id": "HAKNvyAd1Xso",
        "outputId": "0a86e8f2-c944-40f9-ee4a-10bf036c9cd5"
      },
      "execution_count": 29,
      "outputs": [
        {
          "output_type": "execute_result",
          "data": {
            "text/plain": [
              "True"
            ]
          },
          "metadata": {},
          "execution_count": 29
        }
      ]
    },
    {
      "cell_type": "code",
      "source": [
        "x=10\n",
        "10!=x"
      ],
      "metadata": {
        "colab": {
          "base_uri": "https://localhost:8080/"
        },
        "id": "wqSAlWKS1sAy",
        "outputId": "0f410678-93ae-42a0-c3f6-ced6a5ec1960"
      },
      "execution_count": 30,
      "outputs": [
        {
          "output_type": "execute_result",
          "data": {
            "text/plain": [
              "False"
            ]
          },
          "metadata": {},
          "execution_count": 30
        }
      ]
    },
    {
      "cell_type": "code",
      "source": [
        "# assignment operator\n",
        "x=500 # 500 literal value\n",
        "x=x+10\n",
        "print(x)"
      ],
      "metadata": {
        "colab": {
          "base_uri": "https://localhost:8080/"
        },
        "id": "o2Ji-N0917sA",
        "outputId": "314573fa-0b7e-489c-db0d-3dd62129d500"
      },
      "execution_count": 33,
      "outputs": [
        {
          "output_type": "stream",
          "name": "stdout",
          "text": [
            "510\n"
          ]
        }
      ]
    },
    {
      "cell_type": "code",
      "source": [
        "age=2\n",
        "age=age**3 # age **=3\n",
        "print(age)"
      ],
      "metadata": {
        "colab": {
          "base_uri": "https://localhost:8080/"
        },
        "id": "YuC_oyZP2MCP",
        "outputId": "bdea0a02-fa14-45e7-851e-d494f6711ddb"
      },
      "execution_count": 34,
      "outputs": [
        {
          "output_type": "stream",
          "name": "stdout",
          "text": [
            "8\n"
          ]
        }
      ]
    },
    {
      "cell_type": "code",
      "source": [
        "age=2\n",
        "age **=3\n",
        "print(age)"
      ],
      "metadata": {
        "colab": {
          "base_uri": "https://localhost:8080/"
        },
        "id": "OgV9SEUT2qDY",
        "outputId": "284877c7-e816-4b5c-b493-9c54e9d5de68"
      },
      "execution_count": 35,
      "outputs": [
        {
          "output_type": "stream",
          "name": "stdout",
          "text": [
            "8\n"
          ]
        }
      ]
    },
    {
      "cell_type": "code",
      "source": [
        "salary=1000\n",
        "salary+=50\n",
        "# +=, -= ,**= ,%= ,/= ,//="
      ],
      "metadata": {
        "id": "-0jHh5ng26yw"
      },
      "execution_count": 36,
      "outputs": []
    },
    {
      "cell_type": "code",
      "source": [
        "y=10\n",
        "y /=3\n",
        "print(y)"
      ],
      "metadata": {
        "colab": {
          "base_uri": "https://localhost:8080/"
        },
        "id": "qMmIdazI3ejs",
        "outputId": "9bbb425f-1e79-4440-ae8d-5b5bd8e1bf98"
      },
      "execution_count": 37,
      "outputs": [
        {
          "output_type": "stream",
          "name": "stdout",
          "text": [
            "3.3333333333333335\n"
          ]
        }
      ]
    },
    {
      "cell_type": "code",
      "source": [
        "y=10\n",
        "y //=3\n",
        "print(y)"
      ],
      "metadata": {
        "colab": {
          "base_uri": "https://localhost:8080/"
        },
        "id": "oAqQhiMO3ieu",
        "outputId": "c5e491ee-1e04-4dee-8203-c7d70514fc6d"
      },
      "execution_count": 38,
      "outputs": [
        {
          "output_type": "stream",
          "name": "stdout",
          "text": [
            "3\n"
          ]
        }
      ]
    },
    {
      "cell_type": "code",
      "source": [
        "# logical operator\n",
        "age=20\n",
        "salary=20000\n",
        "\n",
        "age>20  and salary==20000"
      ],
      "metadata": {
        "colab": {
          "base_uri": "https://localhost:8080/"
        },
        "id": "a6gK8q273lkB",
        "outputId": "8d056d43-02d8-4c47-a7a6-b75e7d25f3dc"
      },
      "execution_count": 40,
      "outputs": [
        {
          "output_type": "execute_result",
          "data": {
            "text/plain": [
              "False"
            ]
          },
          "metadata": {},
          "execution_count": 40
        }
      ]
    },
    {
      "cell_type": "code",
      "source": [
        "age=25\n",
        "salary=2000\n",
        "\n",
        "age>20 or salary >5000"
      ],
      "metadata": {
        "colab": {
          "base_uri": "https://localhost:8080/"
        },
        "id": "vw3ehhgr4gZa",
        "outputId": "0135985a-b8ad-4890-ed84-8153c9a31dc0"
      },
      "execution_count": 41,
      "outputs": [
        {
          "output_type": "execute_result",
          "data": {
            "text/plain": [
              "True"
            ]
          },
          "metadata": {},
          "execution_count": 41
        }
      ]
    },
    {
      "cell_type": "code",
      "source": [
        "x=10\n",
        "y=5\n",
        "salary=10000\n",
        "\n",
        "(x>0 or y>0) and salary>5000\n"
      ],
      "metadata": {
        "colab": {
          "base_uri": "https://localhost:8080/"
        },
        "id": "KVxMBFIz4x4M",
        "outputId": "14b6692b-e9c1-495b-a003-a29846e9e6bb"
      },
      "execution_count": 58,
      "outputs": [
        {
          "output_type": "execute_result",
          "data": {
            "text/plain": [
              "132827415233040"
            ]
          },
          "metadata": {},
          "execution_count": 58
        }
      ]
    },
    {
      "cell_type": "code",
      "source": [
        "# not operator\n",
        "not True\n"
      ],
      "metadata": {
        "colab": {
          "base_uri": "https://localhost:8080/"
        },
        "id": "MUKuajSm5XWE",
        "outputId": "02ee4b62-a469-4678-8b24-d58f5ab1af4d"
      },
      "execution_count": 45,
      "outputs": [
        {
          "output_type": "execute_result",
          "data": {
            "text/plain": [
              "False"
            ]
          },
          "metadata": {},
          "execution_count": 45
        }
      ]
    },
    {
      "cell_type": "code",
      "source": [
        "# membership operator (iterable)\n",
        "# note : integers are not iterable\n",
        "\"japan\"\n",
        "\"j\" in \"japan\""
      ],
      "metadata": {
        "colab": {
          "base_uri": "https://localhost:8080/"
        },
        "id": "W0_uij5d53Ph",
        "outputId": "1df25938-d84e-417d-ca99-8ca86f76d371"
      },
      "execution_count": 47,
      "outputs": [
        {
          "output_type": "execute_result",
          "data": {
            "text/plain": [
              "True"
            ]
          },
          "metadata": {},
          "execution_count": 47
        }
      ]
    },
    {
      "cell_type": "code",
      "source": [
        "\"an\" in \"japan\""
      ],
      "metadata": {
        "colab": {
          "base_uri": "https://localhost:8080/"
        },
        "id": "RxNfl2c-6O-E",
        "outputId": "3233bdb7-cac8-42e7-b66b-3d7910420b67"
      },
      "execution_count": 48,
      "outputs": [
        {
          "output_type": "execute_result",
          "data": {
            "text/plain": [
              "True"
            ]
          },
          "metadata": {},
          "execution_count": 48
        }
      ]
    },
    {
      "cell_type": "code",
      "source": [
        "\"aj\" in \"japan\""
      ],
      "metadata": {
        "colab": {
          "base_uri": "https://localhost:8080/"
        },
        "id": "oFE4dsw86fqx",
        "outputId": "9d35d0f9-9cc7-491f-b631-fa390fc37f63"
      },
      "execution_count": 49,
      "outputs": [
        {
          "output_type": "execute_result",
          "data": {
            "text/plain": [
              "False"
            ]
          },
          "metadata": {},
          "execution_count": 49
        }
      ]
    },
    {
      "cell_type": "code",
      "source": [
        "# bitwise operator\n",
        "9&11"
      ],
      "metadata": {
        "colab": {
          "base_uri": "https://localhost:8080/"
        },
        "id": "nBWJa4zx6iEi",
        "outputId": "2dd61f48-40a4-4fca-b1a6-a5517c75442a"
      },
      "execution_count": 50,
      "outputs": [
        {
          "output_type": "execute_result",
          "data": {
            "text/plain": [
              "9"
            ]
          },
          "metadata": {},
          "execution_count": 50
        }
      ]
    },
    {
      "cell_type": "code",
      "source": [
        "11&9"
      ],
      "metadata": {
        "colab": {
          "base_uri": "https://localhost:8080/"
        },
        "id": "ctX-vuRJ8QvM",
        "outputId": "0832f784-9e55-4199-ce55-b1903e67deba"
      },
      "execution_count": 51,
      "outputs": [
        {
          "output_type": "execute_result",
          "data": {
            "text/plain": [
              "9"
            ]
          },
          "metadata": {},
          "execution_count": 51
        }
      ]
    },
    {
      "cell_type": "code",
      "source": [
        "6&12"
      ],
      "metadata": {
        "colab": {
          "base_uri": "https://localhost:8080/"
        },
        "id": "wq8_lpq68SBb",
        "outputId": "202ad54f-6d40-45f7-e23e-df71792edb63"
      },
      "execution_count": 52,
      "outputs": [
        {
          "output_type": "execute_result",
          "data": {
            "text/plain": [
              "4"
            ]
          },
          "metadata": {},
          "execution_count": 52
        }
      ]
    },
    {
      "cell_type": "code",
      "source": [
        "6|12"
      ],
      "metadata": {
        "colab": {
          "base_uri": "https://localhost:8080/"
        },
        "id": "mAdW5SJR8m1i",
        "outputId": "9b3a123a-e87e-4322-ae76-a95cea552c8e"
      },
      "execution_count": 54,
      "outputs": [
        {
          "output_type": "execute_result",
          "data": {
            "text/plain": [
              "14"
            ]
          },
          "metadata": {},
          "execution_count": 54
        }
      ]
    },
    {
      "cell_type": "code",
      "source": [
        "\n",
        "9>>1"
      ],
      "metadata": {
        "colab": {
          "base_uri": "https://localhost:8080/"
        },
        "id": "iEWgZYJ99Db9",
        "outputId": "71ceeef4-d062-4f44-a2f3-74640f90012c"
      },
      "execution_count": 55,
      "outputs": [
        {
          "output_type": "execute_result",
          "data": {
            "text/plain": [
              "4"
            ]
          },
          "metadata": {},
          "execution_count": 55
        }
      ]
    },
    {
      "cell_type": "code",
      "source": [
        "# right  shift\n",
        "19>>1\n",
        "# number  // 2**bit (right shift)\n",
        "# number * 2**bit (left shift)\n",
        "# 19 // 2**1\n",
        "# 19 //2"
      ],
      "metadata": {
        "colab": {
          "base_uri": "https://localhost:8080/"
        },
        "id": "GWzKqJYL983q",
        "outputId": "a96861ee-1dd4-4daf-ac13-5845a05b991c"
      },
      "execution_count": 56,
      "outputs": [
        {
          "output_type": "execute_result",
          "data": {
            "text/plain": [
              "9"
            ]
          },
          "metadata": {},
          "execution_count": 56
        }
      ]
    },
    {
      "cell_type": "code",
      "source": [
        "22<<3"
      ],
      "metadata": {
        "colab": {
          "base_uri": "https://localhost:8080/"
        },
        "id": "34gm92cx-u_E",
        "outputId": "e564d6fb-c420-46c1-887a-ec2cff5ea0af"
      },
      "execution_count": 57,
      "outputs": [
        {
          "output_type": "execute_result",
          "data": {
            "text/plain": [
              "176"
            ]
          },
          "metadata": {},
          "execution_count": 57
        }
      ]
    },
    {
      "cell_type": "code",
      "source": [
        "x=10\n",
        "id(x)"
      ],
      "metadata": {
        "colab": {
          "base_uri": "https://localhost:8080/"
        },
        "id": "oRTDCWBO-xPA",
        "outputId": "549d17ba-bf42-4285-f505-7f08903d1666"
      },
      "execution_count": 59,
      "outputs": [
        {
          "output_type": "execute_result",
          "data": {
            "text/plain": [
              "132827415233040"
            ]
          },
          "metadata": {},
          "execution_count": 59
        }
      ]
    },
    {
      "cell_type": "code",
      "source": [
        "y=10\n",
        "id(y)"
      ],
      "metadata": {
        "colab": {
          "base_uri": "https://localhost:8080/"
        },
        "id": "SFVjaqLkBV3z",
        "outputId": "6f7e2a2c-6a4f-42ae-fd23-2f57c87fbb7e"
      },
      "execution_count": 60,
      "outputs": [
        {
          "output_type": "execute_result",
          "data": {
            "text/plain": [
              "132827415233040"
            ]
          },
          "metadata": {},
          "execution_count": 60
        }
      ]
    },
    {
      "cell_type": "code",
      "source": [
        "x is y"
      ],
      "metadata": {
        "colab": {
          "base_uri": "https://localhost:8080/"
        },
        "id": "EeWLVdVvByYs",
        "outputId": "48ce5bdc-7b41-4c81-e2e2-4d17af78312e"
      },
      "execution_count": 61,
      "outputs": [
        {
          "output_type": "execute_result",
          "data": {
            "text/plain": [
              "True"
            ]
          },
          "metadata": {},
          "execution_count": 61
        }
      ]
    },
    {
      "cell_type": "code",
      "source": [
        "age =18\n",
        "if (age>=18):\n",
        "  print(\"Adult\")\n",
        "else:\n",
        "  print(\"child\")"
      ],
      "metadata": {
        "colab": {
          "base_uri": "https://localhost:8080/"
        },
        "id": "dOotUWKVB0Wo",
        "outputId": "c08389aa-d73b-474c-b6d5-e3fe3cc7c0a3"
      },
      "execution_count": 65,
      "outputs": [
        {
          "output_type": "stream",
          "name": "stdout",
          "text": [
            "Adult\n"
          ]
        }
      ]
    },
    {
      "cell_type": "code",
      "source": [
        "age =25\n",
        "if (age==18):\n",
        "  print(\"Adult\")\n",
        "else:\n",
        "  print(\"child\")"
      ],
      "metadata": {
        "colab": {
          "base_uri": "https://localhost:8080/"
        },
        "id": "uXU98oxVFwt4",
        "outputId": "b5bef1a5-fc6c-4446-98d0-f318c448d0d9"
      },
      "execution_count": 66,
      "outputs": [
        {
          "output_type": "stream",
          "name": "stdout",
          "text": [
            "child\n"
          ]
        }
      ]
    },
    {
      "cell_type": "code",
      "source": [
        "age =25\n",
        "if (age==25):\n",
        "  print(\"Adult\")\n",
        "else:\n",
        "  print(\"child\")"
      ],
      "metadata": {
        "colab": {
          "base_uri": "https://localhost:8080/"
        },
        "id": "H4XYgyjbGW9A",
        "outputId": "cd57e99d-6b6a-4876-95eb-487cb34c499c"
      },
      "execution_count": 67,
      "outputs": [
        {
          "output_type": "stream",
          "name": "stdout",
          "text": [
            "Adult\n"
          ]
        }
      ]
    },
    {
      "cell_type": "code",
      "source": [
        "age=25\n",
        "if (age==18):\n",
        "  print(\"Adult\")\n",
        "elif (age==25):\n",
        "  print(\"Young\")\n",
        "else:\n",
        "  print(\"Child\")"
      ],
      "metadata": {
        "colab": {
          "base_uri": "https://localhost:8080/"
        },
        "id": "nWVyoh4lGg4h",
        "outputId": "e77ce074-e196-409a-b6a5-0594cd6e02e4"
      },
      "execution_count": 68,
      "outputs": [
        {
          "output_type": "stream",
          "name": "stdout",
          "text": [
            "Young\n"
          ]
        }
      ]
    },
    {
      "cell_type": "code",
      "source": [
        "age=25\n",
        "if (age==18 or age==25):\n",
        "  print(\"Adult\")\n",
        "else:\n",
        "  print(\"Child\")"
      ],
      "metadata": {
        "colab": {
          "base_uri": "https://localhost:8080/"
        },
        "id": "r070mJsfHjUI",
        "outputId": "20361487-496a-403c-885f-bc5486be36db"
      },
      "execution_count": 69,
      "outputs": [
        {
          "output_type": "stream",
          "name": "stdout",
          "text": [
            "Adult\n"
          ]
        }
      ]
    },
    {
      "cell_type": "code",
      "source": [
        "i=int(input(\"Enter the number \"))\n",
        "if (i>0 or i<0):\n",
        "  print(\"Integer\")\n",
        "else:\n",
        "  print(\"Neutral\")"
      ],
      "metadata": {
        "colab": {
          "base_uri": "https://localhost:8080/"
        },
        "id": "mcJ_oGG1H9mi",
        "outputId": "8179767e-c53a-4e21-b294-c57ed38f4bc4"
      },
      "execution_count": 72,
      "outputs": [
        {
          "output_type": "stream",
          "name": "stdout",
          "text": [
            "Enter the number -1\n",
            "Integer\n"
          ]
        }
      ]
    },
    {
      "cell_type": "code",
      "source": [
        "i=int(input(\"Enter the number \"))\n",
        "if (i>0):\n",
        "  print(\"Positive\")\n",
        "elif (i<0):\n",
        "  print(\"Negative\")\n",
        "else:\n",
        "  print(\"Neutral\")"
      ],
      "metadata": {
        "colab": {
          "base_uri": "https://localhost:8080/"
        },
        "id": "2k_uTpj7IciV",
        "outputId": "5808882e-8e12-4187-8d8e-dc8706974b2c"
      },
      "execution_count": 75,
      "outputs": [
        {
          "output_type": "stream",
          "name": "stdout",
          "text": [
            "Enter the number -1\n",
            "Negative\n"
          ]
        }
      ]
    },
    {
      "cell_type": "code",
      "source": [
        "x=10\n",
        "y=5\n",
        "if (x>y):\n",
        "  print(\" x is greater\")\n",
        "elif(x==y):\n",
        "  print(\" x equal to y \")\n",
        "else:\n",
        "  print(\" y is greater \")"
      ],
      "metadata": {
        "colab": {
          "base_uri": "https://localhost:8080/"
        },
        "id": "M2yyM20mJLyB",
        "outputId": "6e9fda40-8de2-42af-9ca7-cdbc4aedb496"
      },
      "execution_count": 81,
      "outputs": [
        {
          "output_type": "stream",
          "name": "stdout",
          "text": [
            " x is greater\n"
          ]
        }
      ]
    },
    {
      "cell_type": "code",
      "source": [
        "x=10\n",
        "y=12\n",
        "z=15\n",
        "if (x>y and x>z):\n",
        "  print(\" x is greater \")\n",
        "elif( x<y and y<z):\n",
        "  print(\" y is greater \")\n",
        "else:\n",
        "  print(\" z is greater \")\n"
      ],
      "metadata": {
        "colab": {
          "base_uri": "https://localhost:8080/"
        },
        "id": "THNB48UbKeSR",
        "outputId": "0f899442-fcba-48f5-c16a-9149fcedd66d"
      },
      "execution_count": 82,
      "outputs": [
        {
          "output_type": "stream",
          "name": "stdout",
          "text": [
            " y is greater \n"
          ]
        }
      ]
    },
    {
      "cell_type": "code",
      "source": [
        "x=int(input(\"Enter the number: \"))\n",
        "if (x%2==0):\n",
        "  print(\"even number \")\n",
        "else:\n",
        "  print(\"odd number\")"
      ],
      "metadata": {
        "colab": {
          "base_uri": "https://localhost:8080/"
        },
        "id": "OxZA3WwrLGE1",
        "outputId": "a05b9712-d5f1-4836-9ea0-fe3aaaa987b4"
      },
      "execution_count": 78,
      "outputs": [
        {
          "output_type": "stream",
          "name": "stdout",
          "text": [
            "Enter the number: 5\n",
            "odd number\n"
          ]
        }
      ]
    },
    {
      "cell_type": "code",
      "source": [
        "age=18\n",
        "if (age>10 and age<18):\n",
        "  print(\" Young\")\n",
        "elif (age>=18 and age<=25):\n",
        "  print(\"Adult\")\n",
        "elif(age>26 and age<60):\n",
        "  print(\"Senior\")\n",
        "else:\n",
        "  (\"Child\")"
      ],
      "metadata": {
        "colab": {
          "base_uri": "https://localhost:8080/"
        },
        "id": "lcaI6n5vLdNF",
        "outputId": "a23e366c-b64b-4352-96ff-03681f69d55c"
      },
      "execution_count": 83,
      "outputs": [
        {
          "output_type": "stream",
          "name": "stdout",
          "text": [
            "Adult\n"
          ]
        }
      ]
    },
    {
      "cell_type": "code",
      "source": [],
      "metadata": {
        "id": "oBZkzRjANjiQ"
      },
      "execution_count": null,
      "outputs": []
    }
  ],
  "metadata": {
    "colab": {
      "provenance": []
    },
    "kernelspec": {
      "display_name": "Python 3",
      "name": "python3"
    },
    "language_info": {
      "name": "python"
    }
  },
  "nbformat": 4,
  "nbformat_minor": 0
}